{
 "cells": [
  {
   "cell_type": "code",
   "execution_count": 1,
   "metadata": {},
   "outputs": [],
   "source": [
    "from preprocessing import (\n",
    "    preprocess_kjv,\n",
    "    get_word_types_with_tf_idf,\n",
    ")\n",
    "from extract_relations import (\n",
    "    get_directed_relations,\n",
    "    order_directed_relations,\n",
    ")\n",
    "from ontology_algorithm import (\n",
    "    construct_ontology_hierarchy,\n",
    "    print_hierarchy_tree_from_ontology,\n",
    ")"
   ]
  },
  {
   "attachments": {},
   "cell_type": "markdown",
   "metadata": {},
   "source": [
    "## Preprocessing\n",
    "\n",
    "We will preprocess words from the kjv Bible using tf-idf and extract the top n words."
   ]
  },
  {
   "cell_type": "code",
   "execution_count": 14,
   "metadata": {},
   "outputs": [
    {
     "name": "stdout",
     "output_type": "stream",
     "text": [
      "Excluding words with the following word types: {'WP$', 'VB', 'CD', 'PRP$', 'WRB', 'RBR', 'WDT', 'DT', 'PRP', 'VBG', 'VBZ', 'RB', 'RBS', 'PDT', 'VBP', 'VBD', 'VBN', 'WP'}\n"
     ]
    }
   ],
   "source": [
    "kjv_path = \"/Users/zebo/Documents/Freelancing/upwork/Peter_J_Worth_Jr/NLP/hierarchical_clustering/data/t_kjv.csv\"\n",
    "kjv_bible_df, genesis_df = preprocess_kjv(\n",
    "    path_to_kjv=kjv_path,\n",
    "    get_book=\"Genesis\",\n",
    ")\n",
    "\n",
    "# Specify the number of chapters to use.\n",
    "last_chapter = 50\n",
    "# Specify the number of top words to use.\n",
    "n = 50\n",
    "\n",
    "selected_chapter_verses = []\n",
    "for chapter_index in range(1, last_chapter + 1):\n",
    "    chapter = genesis_df[genesis_df[\"chapter\"] == chapter_index]\n",
    "    chapter_verses = \"\"\n",
    "    for verse in chapter[\"text\"].values:\n",
    "        chapter_verses = chapter_verses + \" \" + verse\n",
    "        if \"the LORD\" in verse and \"the LORD God\" not in verse:\n",
    "            # replace \"the LORD\" with \"God\"\n",
    "            verse = verse.replace(\"the LORD\", \"God\") #TODO change?\n",
    "    selected_chapter_verses.append(chapter_verses)\n",
    "\n",
    "tf_idf_pre_filtering = get_word_types_with_tf_idf(\n",
    "    selected_chapter_verses,\n",
    "    \"tf_idf\",\n",
    "    skip_stopwords=True,\n",
    "    include_verbs=False,\n",
    "    include_determiners=False,\n",
    "    include_pronouns=False,\n",
    "    include_adverbs=False,\n",
    "    include_numbers=False,\n",
    ")\n",
    "\n",
    "top_n_words = tf_idf_pre_filtering.head(n)[\"word\"].values"
   ]
  },
  {
   "attachments": {},
   "cell_type": "markdown",
   "metadata": {},
   "source": [
    "# Extract relations from the corpus"
   ]
  },
  {
   "cell_type": "code",
   "execution_count": 15,
   "metadata": {},
   "outputs": [],
   "source": [
    "# Create a list of all verses of the corpus.\n",
    "all_verses = []\n",
    "for chapter_index in range(1, last_chapter + 1):\n",
    "    Chapter = genesis_df[genesis_df[\"chapter\"] == chapter_index]\n",
    "    chapter_verses = []\n",
    "    for verse in Chapter[\"text\"].values:\n",
    "        if \"the LORD\" in verse and \"the LORD God\" not in verse:\n",
    "            # replace \"the LORD\" with \"God\"\n",
    "            verse = verse.replace(\"the LORD\", \"God\") #TODO change?\n",
    "        chapter_verses.append(verse)\n",
    "    all_verses.extend(chapter_verses)"
   ]
  },
  {
   "cell_type": "code",
   "execution_count": 22,
   "metadata": {},
   "outputs": [],
   "source": [
    "directed_relations = get_directed_relations(\n",
    "    top_n_words=top_n_words,\n",
    "    all_verses=all_verses,\n",
    "    verbose=False,\n",
    ")"
   ]
  },
  {
   "cell_type": "code",
   "execution_count": 23,
   "metadata": {},
   "outputs": [],
   "source": [
    "ordered_directed_relations = order_directed_relations(\n",
    "    directed_relations=directed_relations,\n",
    "    tf_idf_pre_filtering=tf_idf_pre_filtering,\n",
    ")"
   ]
  },
  {
   "attachments": {},
   "cell_type": "markdown",
   "metadata": {},
   "source": [
    "## Construct the ontology hierarchy"
   ]
  },
  {
   "cell_type": "code",
   "execution_count": 24,
   "metadata": {},
   "outputs": [
    {
     "name": "stdout",
     "output_type": "stream",
     "text": [
      "god\n",
      "├── isaac\n",
      "│   ├── jacob\n",
      "│   │   ├── pharaoh\n",
      "│   │   ├── name\n",
      "│   │   ├── house\n",
      "│   │   ├── rachel\n",
      "│   │   │   └── joseph\n",
      "│   │   │       ├── servants\n",
      "│   │   │       ├── egypt\n",
      "│   │   │       ├── money\n",
      "│   │   │       ├── cattle\n",
      "│   │   │       ├── brethren\n",
      "│   │   │       └── dream\n",
      "│   │   ├── esau\n",
      "│   │   ├── laban\n",
      "│   │   │   └── leah\n",
      "│   │   ├── years\n",
      "│   │   ├── daughters\n",
      "│   │   ├── father\n",
      "│   │   ├── daughter\n",
      "│   │   └── wife\n",
      "│   └── rebekah\n",
      "│       └── brother\n",
      "├── servant\n",
      "│   └── camels\n",
      "├── covenant\n",
      "├── sons\n",
      "│   └── israel\n",
      "├── cain\n",
      "├── sodom\n",
      "├── son\n",
      "├── noah\n",
      "│   └── ark\n",
      "├── seed\n",
      "├── sarah\n",
      "├── earth\n",
      "├── master\n",
      "├── kind\n",
      "├── city\n",
      "├── abram\n",
      "├── abraham\n",
      "└── abimelech\n"
     ]
    }
   ],
   "source": [
    "ontology_hierarchy, words_with_parents = construct_ontology_hierarchy(\n",
    "    ordered_directed_relations=ordered_directed_relations,\n",
    ")\n",
    "print_hierarchy_tree_from_ontology(\n",
    "    ontological_hierarchy=ontology_hierarchy,\n",
    "    words_with_parents=words_with_parents,\n",
    ")"
   ]
  },
  {
   "cell_type": "code",
   "execution_count": null,
   "metadata": {},
   "outputs": [],
   "source": []
  }
 ],
 "metadata": {
  "kernelspec": {
   "display_name": "Python 3",
   "language": "python",
   "name": "python3"
  },
  "language_info": {
   "codemirror_mode": {
    "name": "ipython",
    "version": 3
   },
   "file_extension": ".py",
   "mimetype": "text/x-python",
   "name": "python",
   "nbconvert_exporter": "python",
   "pygments_lexer": "ipython3",
   "version": "3.10.10"
  },
  "orig_nbformat": 4
 },
 "nbformat": 4,
 "nbformat_minor": 2
}
